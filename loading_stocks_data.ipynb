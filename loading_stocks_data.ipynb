{
 "cells": [
  {
   "cell_type": "code",
   "execution_count": 1,
   "id": "37de7a3e-5b40-400b-8661-a00eff47440b",
   "metadata": {},
   "outputs": [],
   "source": [
    "import yfinance as yf\n",
    "import pandas as pd\n",
    "from datetime import datetime\n",
    "\n",
    "# Define start and end dates\n",
    "start_date = \"2005-01-01\"\n",
    "end_date = pd.Timestamp.today().strftime('%Y-%m-%d')\n",
    "\n",
    "# Ticker symbols for the top 50 companies (Nifty 50 constituents)\n",
    "nifty50 = [\n",
    "    \"ADANIENT.NS\",    # Adani Enterprises Ltd.\n",
    "    \"ADANIPORTS.NS\",  # Adani Ports & SEZ Ltd.\n",
    "    \"APOLLOHOSP.NS\",  # Apollo Hospitals Enterprise Ltd.\n",
    "    \"ASIANPAINT.NS\",  # Asian Paints Ltd.\n",
    "    \"AXISBANK.NS\",    # Axis Bank Ltd.\n",
    "    \"BAJAJ-AUTO.NS\",  # Bajaj Auto Ltd.\n",
    "    \"BAJFINANCE.NS\",  # Bajaj Finance Ltd.\n",
    "    \"BAJAJFINSV.NS\",  # Bajaj Finserv Ltd.\n",
    "    \"BPCL.NS\",        # Bharat Petroleum Corporation Ltd.\n",
    "    \"BHARTIARTL.NS\",  # Bharti Airtel Ltd.\n",
    "    \"BRITANNIA.NS\",   # Britannia Industries Ltd.\n",
    "    \"CIPLA.NS\",       # Cipla Ltd.\n",
    "    \"COALINDIA.NS\",   # Coal India Ltd.\n",
    "    \"DRREDDY.NS\",     # Dr. Reddy's Laboratories Ltd.\n",
    "    \"EICHERMOT.NS\",   # Eicher Motors Ltd.\n",
    "    \"GRASIM.NS\",      # Grasim Industries Ltd.\n",
    "    \"HCLTECH.NS\",     # HCL Technologies Ltd.\n",
    "    \"HDFCBANK.NS\",    # HDFC Bank Ltd.\n",
    "    \"HDFCLIFE.NS\",    # HDFC Life Insurance Company Ltd.\n",
    "    \"HEROMOTOCO.NS\",  # Hero MotoCorp Ltd.\n",
    "    \"HINDALCO.NS\",    # Hindalco Industries Ltd.\n",
    "    \"HINDUNILVR.NS\",  # Hindustan Unilever Ltd.\n",
    "    \"ICICIBANK.NS\",   # ICICI Bank Ltd.\n",
    "    \"INDUSINDBK.NS\",  # IndusInd Bank Ltd.\n",
    "    \"INFY.NS\",        # Infosys Ltd.\n",
    "    \"ITC.NS\",         # ITC Ltd.\n",
    "    \"JSWSTEEL.NS\",    # JSW Steel Ltd.\n",
    "    \"KOTAKBANK.NS\",   # Kotak Mahindra Bank Ltd.\n",
    "    \"LT.NS\",          # Larsen & Toubro Ltd.\n",
    "    \"M&M.NS\",         # Mahindra & Mahindra Ltd.\n",
    "    \"MARUTI.NS\",      # Maruti Suzuki India Ltd.\n",
    "    \"NESTLEIND.NS\",   # Nestlé India Ltd.\n",
    "    \"NTPC.NS\",        # NTPC Ltd.\n",
    "    \"ONGC.NS\",        # Oil & Natural Gas Corporation Ltd.\n",
    "    \"POWERGRID.NS\",   # Power Grid Corporation of India Ltd.\n",
    "    \"RELIANCE.NS\",    # Reliance Industries Ltd.\n",
    "    \"SBILIFE.NS\",     # SBI Life Insurance Company Ltd.\n",
    "    \"SHRIRAMFIN.NS\",  # Shriram Finance Ltd.\n",
    "    \"SBIN.NS\",        # State Bank of India\n",
    "    \"SUNPHARMA.NS\",   # Sun Pharmaceutical Industries Ltd.\n",
    "    \"TCS.NS\",         # Tata Consultancy Services Ltd.\n",
    "    \"TATACONSUM.NS\",  # Tata Consumer Products Ltd.\n",
    "    \"TATAMOTORS.NS\",  # Tata Motors Ltd.\n",
    "    \"TATASTEEL.NS\",   # Tata Steel Ltd.\n",
    "    \"TECHM.NS\",       # Tech Mahindra Ltd.\n",
    "    \"TITAN.NS\",       # Titan Company Ltd.\n",
    "    \"TRENT.NS\",       # Trent Ltd.\n",
    "    \"ULTRACEMCO.NS\",  # UltraTech Cement Ltd.\n",
    "    \"WIPRO.NS\"        # Wipro Ltd.\n",
    "]\n",
    "\n",
    "# Ticker symbols for the next 50 companies (Nifty Next 50 constituents)\n",
    "nifty_next_50 = [\n",
    "    \"ABB.NS\",         # ABB India Ltd.\n",
    "    \"ADANIENSOL.NS\",   # Adani Energy Solutions Ltd.\n",
    "    \"ADANIGREEN.NS\",   # Adani Green Energy Ltd.\n",
    "    \"ADANIPOWER.NS\",   # Adani Power Ltd.\n",
    "    \"ATGL.NS\",         # Adani Total Gas Ltd.\n",
    "    \"AMBUJACEM.NS\",    # Ambuja Cements Ltd.\n",
    "    \"BAJAJHLDNG.NS\",   # Bajaj Holdings & Investment Ltd.\n",
    "    \"BANKBARODA.NS\",   # Bank of Baroda\n",
    "    \"BHEL.NS\",         # Bharat Heavy Electricals Ltd.\n",
    "    \"BOSCHLTD.NS\",     # Bosch Ltd.\n",
    "    \"CANBK.NS\",        # Canara Bank Ltd.\n",
    "    \"CHOLAFIN.NS\",     # Cholamandalam Investment and Finance Co. Ltd.\n",
    "    \"DABUR.NS\",        # Dabur India Ltd.\n",
    "    \"DIVISLAB.NS\",     # Divi's Laboratories Ltd.\n",
    "    \"DLF.NS\",          # DLF Ltd.\n",
    "    \"DMART.NS\",        # DMart (Avenue Supermarts Ltd.)\n",
    "    \"GAIL.NS\",         # GAIL (India) Ltd.\n",
    "    \"GODREJCP.NS\",     # Godrej Consumer Products Ltd.\n",
    "    \"HAVELLS.NS\",      # Havells India Ltd.\n",
    "    \"HAL.NS\",          # Hindustan Aeronautics Ltd.\n",
    "    \"ICICIGI.NS\",      # ICICI Lombard General Insurance Co. Ltd.\n",
    "    \"ICICIPRULI.NS\",   # ICICI Prudential Life Insurance Co. Ltd.\n",
    "    \"IOC.NS\",          # Indian Oil Corporation Ltd.\n",
    "    \"INDIGO.NS\",       # IndiGo (InterGlobe Aviation Ltd.)\n",
    "    \"NAUKRI.NS\",       # Info Edge (India) Ltd.\n",
    "    \"IRCTC.NS\",        # IRCTC Ltd.\n",
    "    \"IRFC.NS\",         # IRFC Ltd.\n",
    "    \"JINDALSTEL.NS\",   # Jindal Steel & Power Ltd.\n",
    "    \"JIOFIN.NS\",       # Jio Financial Services Ltd.\n",
    "    \"JSWENERGY.NS\",    # JSW Energy Ltd.\n",
    "    \"LICHSGFIN.NS\",    # LIC Housing Finance Ltd.\n",
    "    \"LTTS.NS\",         # L&T Technology Services Ltd.\n",
    "    \"MOTHERSON.NS\",    # Samvardhana Motherson International Ltd.\n",
    "    \"SHREECEM.NS\",     # Shree Cement Ltd.\n",
    "    \"SIEMENS.NS\",      # Siemens Ltd.\n",
    "    \"TATAPOWER.NS\",    # Tata Power Co. Ltd.\n",
    "    \"TORNTPHARM.NS\",   # Torrent Pharmaceuticals Ltd.\n",
    "    \"TVSMOTOR.NS\",     # TVS Motor Company Ltd.\n",
    "    \"UNIONBANK.NS\",    # Union Bank of India\n",
    "    \"UNITDSPR.NS\",     # United Spirits Ltd.\n",
    "    \"VBL.NS\",          # Varun Beverages Ltd.\n",
    "    \"VEDL.NS\",         # Vedanta Ltd.\n",
    "    \"ZOMATO.NS\",       # Zomato Ltd.\n",
    "    \"ZYDUSLIFE.NS\",    # Zydus Lifesciences Ltd.\n",
    "    # Additional sample candidates for the next 50:\n",
    "    \"IDFCFIRSTB.NS\",   # IDFC First Bank Ltd.\n",
    "    \"YESBANK.NS\",      # Yes Bank Ltd.\n",
    "    \"PNB.NS\",          # Punjab National Bank\n",
    "    \"BANKINDIA.NS\",    # Bank of India\n",
    "    \"RBLBANK.NS\",      # RBL Bank Ltd.\n",
    "    \"INDIANB.NS\"       # Indian Bank\n",
    "]\n",
    "\n",
    "# Combine both lists to get a full list of 100 ticker symbols\n",
    "top_100_tickers = nifty50 + nifty_next_50"
   ]
  },
  {
   "cell_type": "code",
   "execution_count": 2,
   "id": "48eace93-92f0-4bcb-9a5f-95dfd21fa774",
   "metadata": {},
   "outputs": [
    {
     "name": "stdout",
     "output_type": "stream",
     "text": [
      "Downloading data for ADANIENT.NS ...\n"
     ]
    },
    {
     "name": "stderr",
     "output_type": "stream",
     "text": [
      "[*********************100%***********************]  1 of 1 completed\n"
     ]
    },
    {
     "name": "stdout",
     "output_type": "stream",
     "text": [
      "Downloading data for ADANIPORTS.NS ...\n"
     ]
    },
    {
     "name": "stderr",
     "output_type": "stream",
     "text": [
      "[*********************100%***********************]  1 of 1 completed\n"
     ]
    },
    {
     "name": "stdout",
     "output_type": "stream",
     "text": [
      "Downloading data for APOLLOHOSP.NS ...\n"
     ]
    },
    {
     "name": "stderr",
     "output_type": "stream",
     "text": [
      "[*********************100%***********************]  1 of 1 completed\n"
     ]
    },
    {
     "name": "stdout",
     "output_type": "stream",
     "text": [
      "Downloading data for ASIANPAINT.NS ...\n"
     ]
    },
    {
     "name": "stderr",
     "output_type": "stream",
     "text": [
      "[*********************100%***********************]  1 of 1 completed\n"
     ]
    },
    {
     "name": "stdout",
     "output_type": "stream",
     "text": [
      "Downloading data for AXISBANK.NS ...\n"
     ]
    },
    {
     "name": "stderr",
     "output_type": "stream",
     "text": [
      "[*********************100%***********************]  1 of 1 completed\n",
      "[*********************100%***********************]  1 of 1 completed"
     ]
    },
    {
     "name": "stdout",
     "output_type": "stream",
     "text": [
      "Downloading data for BAJAJ-AUTO.NS ...\n"
     ]
    },
    {
     "name": "stderr",
     "output_type": "stream",
     "text": [
      "\n"
     ]
    },
    {
     "name": "stdout",
     "output_type": "stream",
     "text": [
      "Downloading data for BAJFINANCE.NS ...\n"
     ]
    },
    {
     "name": "stderr",
     "output_type": "stream",
     "text": [
      "[*********************100%***********************]  1 of 1 completed\n"
     ]
    },
    {
     "name": "stdout",
     "output_type": "stream",
     "text": [
      "Downloading data for BAJAJFINSV.NS ...\n"
     ]
    },
    {
     "name": "stderr",
     "output_type": "stream",
     "text": [
      "[*********************100%***********************]  1 of 1 completed\n"
     ]
    },
    {
     "name": "stdout",
     "output_type": "stream",
     "text": [
      "Downloading data for BPCL.NS ...\n"
     ]
    },
    {
     "name": "stderr",
     "output_type": "stream",
     "text": [
      "[*********************100%***********************]  1 of 1 completed\n"
     ]
    },
    {
     "name": "stdout",
     "output_type": "stream",
     "text": [
      "Downloading data for BHARTIARTL.NS ...\n"
     ]
    },
    {
     "name": "stderr",
     "output_type": "stream",
     "text": [
      "[*********************100%***********************]  1 of 1 completed\n"
     ]
    },
    {
     "name": "stdout",
     "output_type": "stream",
     "text": [
      "Downloading data for BRITANNIA.NS ...\n"
     ]
    },
    {
     "name": "stderr",
     "output_type": "stream",
     "text": [
      "[*********************100%***********************]  1 of 1 completed\n"
     ]
    },
    {
     "name": "stdout",
     "output_type": "stream",
     "text": [
      "Downloading data for CIPLA.NS ...\n"
     ]
    },
    {
     "name": "stderr",
     "output_type": "stream",
     "text": [
      "[*********************100%***********************]  1 of 1 completed\n",
      "[*********************100%***********************]  1 of 1 completed\n"
     ]
    },
    {
     "name": "stdout",
     "output_type": "stream",
     "text": [
      "Downloading data for COALINDIA.NS ...\n",
      "Downloading data for DRREDDY.NS ...\n"
     ]
    },
    {
     "name": "stderr",
     "output_type": "stream",
     "text": [
      "[*********************100%***********************]  1 of 1 completed\n"
     ]
    },
    {
     "name": "stdout",
     "output_type": "stream",
     "text": [
      "Downloading data for EICHERMOT.NS ...\n"
     ]
    },
    {
     "name": "stderr",
     "output_type": "stream",
     "text": [
      "[*********************100%***********************]  1 of 1 completed\n"
     ]
    },
    {
     "name": "stdout",
     "output_type": "stream",
     "text": [
      "Downloading data for GRASIM.NS ...\n"
     ]
    },
    {
     "name": "stderr",
     "output_type": "stream",
     "text": [
      "[*********************100%***********************]  1 of 1 completed\n"
     ]
    },
    {
     "name": "stdout",
     "output_type": "stream",
     "text": [
      "Downloading data for HCLTECH.NS ...\n"
     ]
    },
    {
     "name": "stderr",
     "output_type": "stream",
     "text": [
      "[*********************100%***********************]  1 of 1 completed\n"
     ]
    },
    {
     "name": "stdout",
     "output_type": "stream",
     "text": [
      "Downloading data for HDFCBANK.NS ...\n"
     ]
    },
    {
     "name": "stderr",
     "output_type": "stream",
     "text": [
      "[*********************100%***********************]  1 of 1 completed\n",
      "[*********************100%***********************]  1 of 1 completed\n"
     ]
    },
    {
     "name": "stdout",
     "output_type": "stream",
     "text": [
      "Downloading data for HDFCLIFE.NS ...\n",
      "Downloading data for HEROMOTOCO.NS ...\n"
     ]
    },
    {
     "name": "stderr",
     "output_type": "stream",
     "text": [
      "[*********************100%***********************]  1 of 1 completed\n"
     ]
    },
    {
     "name": "stdout",
     "output_type": "stream",
     "text": [
      "Downloading data for HINDALCO.NS ...\n"
     ]
    },
    {
     "name": "stderr",
     "output_type": "stream",
     "text": [
      "[*********************100%***********************]  1 of 1 completed\n"
     ]
    },
    {
     "name": "stdout",
     "output_type": "stream",
     "text": [
      "Downloading data for HINDUNILVR.NS ...\n"
     ]
    },
    {
     "name": "stderr",
     "output_type": "stream",
     "text": [
      "[*********************100%***********************]  1 of 1 completed\n"
     ]
    },
    {
     "name": "stdout",
     "output_type": "stream",
     "text": [
      "Downloading data for ICICIBANK.NS ...\n"
     ]
    },
    {
     "name": "stderr",
     "output_type": "stream",
     "text": [
      "[*********************100%***********************]  1 of 1 completed\n"
     ]
    },
    {
     "name": "stdout",
     "output_type": "stream",
     "text": [
      "Downloading data for INDUSINDBK.NS ...\n"
     ]
    },
    {
     "name": "stderr",
     "output_type": "stream",
     "text": [
      "[*********************100%***********************]  1 of 1 completed\n"
     ]
    },
    {
     "name": "stdout",
     "output_type": "stream",
     "text": [
      "Downloading data for INFY.NS ...\n"
     ]
    },
    {
     "name": "stderr",
     "output_type": "stream",
     "text": [
      "[*********************100%***********************]  1 of 1 completed\n"
     ]
    },
    {
     "name": "stdout",
     "output_type": "stream",
     "text": [
      "Downloading data for ITC.NS ...\n"
     ]
    },
    {
     "name": "stderr",
     "output_type": "stream",
     "text": [
      "[*********************100%***********************]  1 of 1 completed\n"
     ]
    },
    {
     "name": "stdout",
     "output_type": "stream",
     "text": [
      "Downloading data for JSWSTEEL.NS ...\n"
     ]
    },
    {
     "name": "stderr",
     "output_type": "stream",
     "text": [
      "[*********************100%***********************]  1 of 1 completed\n"
     ]
    },
    {
     "name": "stdout",
     "output_type": "stream",
     "text": [
      "Downloading data for KOTAKBANK.NS ...\n"
     ]
    },
    {
     "name": "stderr",
     "output_type": "stream",
     "text": [
      "[*********************100%***********************]  1 of 1 completed\n"
     ]
    },
    {
     "name": "stdout",
     "output_type": "stream",
     "text": [
      "Downloading data for LT.NS ...\n"
     ]
    },
    {
     "name": "stderr",
     "output_type": "stream",
     "text": [
      "[*********************100%***********************]  1 of 1 completed\n"
     ]
    },
    {
     "name": "stdout",
     "output_type": "stream",
     "text": [
      "Downloading data for M&M.NS ...\n"
     ]
    },
    {
     "name": "stderr",
     "output_type": "stream",
     "text": [
      "[*********************100%***********************]  1 of 1 completed\n"
     ]
    },
    {
     "name": "stdout",
     "output_type": "stream",
     "text": [
      "Downloading data for MARUTI.NS ...\n"
     ]
    },
    {
     "name": "stderr",
     "output_type": "stream",
     "text": [
      "[*********************100%***********************]  1 of 1 completed\n"
     ]
    },
    {
     "name": "stdout",
     "output_type": "stream",
     "text": [
      "Downloading data for NESTLEIND.NS ...\n"
     ]
    },
    {
     "name": "stderr",
     "output_type": "stream",
     "text": [
      "[*********************100%***********************]  1 of 1 completed\n"
     ]
    },
    {
     "name": "stdout",
     "output_type": "stream",
     "text": [
      "Downloading data for NTPC.NS ...\n"
     ]
    },
    {
     "name": "stderr",
     "output_type": "stream",
     "text": [
      "[*********************100%***********************]  1 of 1 completed\n"
     ]
    },
    {
     "name": "stdout",
     "output_type": "stream",
     "text": [
      "Downloading data for ONGC.NS ...\n"
     ]
    },
    {
     "name": "stderr",
     "output_type": "stream",
     "text": [
      "[*********************100%***********************]  1 of 1 completed\n"
     ]
    },
    {
     "name": "stdout",
     "output_type": "stream",
     "text": [
      "Downloading data for POWERGRID.NS ...\n"
     ]
    },
    {
     "name": "stderr",
     "output_type": "stream",
     "text": [
      "[*********************100%***********************]  1 of 1 completed\n"
     ]
    },
    {
     "name": "stdout",
     "output_type": "stream",
     "text": [
      "Downloading data for RELIANCE.NS ...\n"
     ]
    },
    {
     "name": "stderr",
     "output_type": "stream",
     "text": [
      "[*********************100%***********************]  1 of 1 completed\n",
      "[*********************100%***********************]  1 of 1 completed\n"
     ]
    },
    {
     "name": "stdout",
     "output_type": "stream",
     "text": [
      "Downloading data for SBILIFE.NS ...\n",
      "Downloading data for SHRIRAMFIN.NS ...\n"
     ]
    },
    {
     "name": "stderr",
     "output_type": "stream",
     "text": [
      "[*********************100%***********************]  1 of 1 completed\n"
     ]
    },
    {
     "name": "stdout",
     "output_type": "stream",
     "text": [
      "Downloading data for SBIN.NS ...\n"
     ]
    },
    {
     "name": "stderr",
     "output_type": "stream",
     "text": [
      "[*********************100%***********************]  1 of 1 completed\n"
     ]
    },
    {
     "name": "stdout",
     "output_type": "stream",
     "text": [
      "Downloading data for SUNPHARMA.NS ...\n"
     ]
    },
    {
     "name": "stderr",
     "output_type": "stream",
     "text": [
      "[*********************100%***********************]  1 of 1 completed\n"
     ]
    },
    {
     "name": "stdout",
     "output_type": "stream",
     "text": [
      "Downloading data for TCS.NS ...\n"
     ]
    },
    {
     "name": "stderr",
     "output_type": "stream",
     "text": [
      "[*********************100%***********************]  1 of 1 completed\n"
     ]
    },
    {
     "name": "stdout",
     "output_type": "stream",
     "text": [
      "Downloading data for TATACONSUM.NS ...\n"
     ]
    },
    {
     "name": "stderr",
     "output_type": "stream",
     "text": [
      "[*********************100%***********************]  1 of 1 completed\n"
     ]
    },
    {
     "name": "stdout",
     "output_type": "stream",
     "text": [
      "Downloading data for TATAMOTORS.NS ...\n"
     ]
    },
    {
     "name": "stderr",
     "output_type": "stream",
     "text": [
      "[*********************100%***********************]  1 of 1 completed\n"
     ]
    },
    {
     "name": "stdout",
     "output_type": "stream",
     "text": [
      "Downloading data for TATASTEEL.NS ...\n"
     ]
    },
    {
     "name": "stderr",
     "output_type": "stream",
     "text": [
      "[*********************100%***********************]  1 of 1 completed\n"
     ]
    },
    {
     "name": "stdout",
     "output_type": "stream",
     "text": [
      "Downloading data for TECHM.NS ...\n"
     ]
    },
    {
     "name": "stderr",
     "output_type": "stream",
     "text": [
      "[*********************100%***********************]  1 of 1 completed\n"
     ]
    },
    {
     "name": "stdout",
     "output_type": "stream",
     "text": [
      "Downloading data for TITAN.NS ...\n"
     ]
    },
    {
     "name": "stderr",
     "output_type": "stream",
     "text": [
      "[*********************100%***********************]  1 of 1 completed\n",
      "[*********************100%***********************]  1 of 1 completed"
     ]
    },
    {
     "name": "stdout",
     "output_type": "stream",
     "text": [
      "Downloading data for TRENT.NS ...\n"
     ]
    },
    {
     "name": "stderr",
     "output_type": "stream",
     "text": [
      "\n",
      "[*********************100%***********************]  1 of 1 completed\n"
     ]
    },
    {
     "name": "stdout",
     "output_type": "stream",
     "text": [
      "Downloading data for ULTRACEMCO.NS ...\n",
      "Downloading data for WIPRO.NS ...\n"
     ]
    },
    {
     "name": "stderr",
     "output_type": "stream",
     "text": [
      "[*********************100%***********************]  1 of 1 completed\n"
     ]
    },
    {
     "name": "stdout",
     "output_type": "stream",
     "text": [
      "Downloading data for ABB.NS ...\n"
     ]
    },
    {
     "name": "stderr",
     "output_type": "stream",
     "text": [
      "[*********************100%***********************]  1 of 1 completed\n",
      "[*********************100%***********************]  1 of 1 completed\n"
     ]
    },
    {
     "name": "stdout",
     "output_type": "stream",
     "text": [
      "Downloading data for ADANIENSOL.NS ...\n",
      "Downloading data for ADANIGREEN.NS ...\n"
     ]
    },
    {
     "name": "stderr",
     "output_type": "stream",
     "text": [
      "[*********************100%***********************]  1 of 1 completed\n",
      "[*********************100%***********************]  1 of 1 completed\n"
     ]
    },
    {
     "name": "stdout",
     "output_type": "stream",
     "text": [
      "Downloading data for ADANIPOWER.NS ...\n"
     ]
    },
    {
     "name": "stderr",
     "output_type": "stream",
     "text": [
      "[*********************100%***********************]  1 of 1 completed\n"
     ]
    },
    {
     "name": "stdout",
     "output_type": "stream",
     "text": [
      "Downloading data for ATGL.NS ...\n",
      "Downloading data for AMBUJACEM.NS ...\n"
     ]
    },
    {
     "name": "stderr",
     "output_type": "stream",
     "text": [
      "[*********************100%***********************]  1 of 1 completed\n"
     ]
    },
    {
     "name": "stdout",
     "output_type": "stream",
     "text": [
      "Downloading data for BAJAJHLDNG.NS ...\n"
     ]
    },
    {
     "name": "stderr",
     "output_type": "stream",
     "text": [
      "[*********************100%***********************]  1 of 1 completed\n"
     ]
    },
    {
     "name": "stdout",
     "output_type": "stream",
     "text": [
      "Downloading data for BANKBARODA.NS ...\n"
     ]
    },
    {
     "name": "stderr",
     "output_type": "stream",
     "text": [
      "[*********************100%***********************]  1 of 1 completed\n"
     ]
    },
    {
     "name": "stdout",
     "output_type": "stream",
     "text": [
      "Downloading data for BHEL.NS ...\n"
     ]
    },
    {
     "name": "stderr",
     "output_type": "stream",
     "text": [
      "[*********************100%***********************]  1 of 1 completed\n",
      "[*********************100%***********************]  1 of 1 completed"
     ]
    },
    {
     "name": "stdout",
     "output_type": "stream",
     "text": [
      "Downloading data for BOSCHLTD.NS ...\n"
     ]
    },
    {
     "name": "stderr",
     "output_type": "stream",
     "text": [
      "\n"
     ]
    },
    {
     "name": "stdout",
     "output_type": "stream",
     "text": [
      "Downloading data for CANBK.NS ...\n"
     ]
    },
    {
     "name": "stderr",
     "output_type": "stream",
     "text": [
      "[*********************100%***********************]  1 of 1 completed\n"
     ]
    },
    {
     "name": "stdout",
     "output_type": "stream",
     "text": [
      "Downloading data for CHOLAFIN.NS ...\n"
     ]
    },
    {
     "name": "stderr",
     "output_type": "stream",
     "text": [
      "[*********************100%***********************]  1 of 1 completed\n"
     ]
    },
    {
     "name": "stdout",
     "output_type": "stream",
     "text": [
      "Downloading data for DABUR.NS ...\n"
     ]
    },
    {
     "name": "stderr",
     "output_type": "stream",
     "text": [
      "[*********************100%***********************]  1 of 1 completed\n"
     ]
    },
    {
     "name": "stdout",
     "output_type": "stream",
     "text": [
      "Downloading data for DIVISLAB.NS ...\n"
     ]
    },
    {
     "name": "stderr",
     "output_type": "stream",
     "text": [
      "[*********************100%***********************]  1 of 1 completed\n"
     ]
    },
    {
     "name": "stdout",
     "output_type": "stream",
     "text": [
      "Downloading data for DLF.NS ...\n"
     ]
    },
    {
     "name": "stderr",
     "output_type": "stream",
     "text": [
      "[*********************100%***********************]  1 of 1 completed\n",
      "[*********************100%***********************]  1 of 1 completed\n"
     ]
    },
    {
     "name": "stdout",
     "output_type": "stream",
     "text": [
      "Downloading data for DMART.NS ...\n",
      "Downloading data for GAIL.NS ...\n"
     ]
    },
    {
     "name": "stderr",
     "output_type": "stream",
     "text": [
      "[*********************100%***********************]  1 of 1 completed\n"
     ]
    },
    {
     "name": "stdout",
     "output_type": "stream",
     "text": [
      "Downloading data for GODREJCP.NS ...\n"
     ]
    },
    {
     "name": "stderr",
     "output_type": "stream",
     "text": [
      "[*********************100%***********************]  1 of 1 completed\n"
     ]
    },
    {
     "name": "stdout",
     "output_type": "stream",
     "text": [
      "Downloading data for HAVELLS.NS ...\n"
     ]
    },
    {
     "name": "stderr",
     "output_type": "stream",
     "text": [
      "[*********************100%***********************]  1 of 1 completed\n",
      "[*********************100%***********************]  1 of 1 completed\n"
     ]
    },
    {
     "name": "stdout",
     "output_type": "stream",
     "text": [
      "Downloading data for HAL.NS ...\n",
      "Downloading data for ICICIGI.NS ...\n"
     ]
    },
    {
     "name": "stderr",
     "output_type": "stream",
     "text": [
      "[*********************100%***********************]  1 of 1 completed\n"
     ]
    },
    {
     "name": "stdout",
     "output_type": "stream",
     "text": [
      "Downloading data for ICICIPRULI.NS ...\n"
     ]
    },
    {
     "name": "stderr",
     "output_type": "stream",
     "text": [
      "[*********************100%***********************]  1 of 1 completed\n"
     ]
    },
    {
     "name": "stdout",
     "output_type": "stream",
     "text": [
      "Downloading data for IOC.NS ...\n"
     ]
    },
    {
     "name": "stderr",
     "output_type": "stream",
     "text": [
      "[*********************100%***********************]  1 of 1 completed\n",
      "[*********************100%***********************]  1 of 1 completed\n"
     ]
    },
    {
     "name": "stdout",
     "output_type": "stream",
     "text": [
      "Downloading data for INDIGO.NS ...\n",
      "Downloading data for NAUKRI.NS ...\n"
     ]
    },
    {
     "name": "stderr",
     "output_type": "stream",
     "text": [
      "[*********************100%***********************]  1 of 1 completed\n",
      "[*********************100%***********************]  1 of 1 completed\n"
     ]
    },
    {
     "name": "stdout",
     "output_type": "stream",
     "text": [
      "Downloading data for IRCTC.NS ...\n",
      "Downloading data for IRFC.NS ...\n"
     ]
    },
    {
     "name": "stderr",
     "output_type": "stream",
     "text": [
      "[*********************100%***********************]  1 of 1 completed\n"
     ]
    },
    {
     "name": "stdout",
     "output_type": "stream",
     "text": [
      "Downloading data for JINDALSTEL.NS ...\n"
     ]
    },
    {
     "name": "stderr",
     "output_type": "stream",
     "text": [
      "[*********************100%***********************]  1 of 1 completed\n",
      "[*********************100%***********************]  1 of 1 completed\n"
     ]
    },
    {
     "name": "stdout",
     "output_type": "stream",
     "text": [
      "Downloading data for JIOFIN.NS ...\n",
      "Downloading data for JSWENERGY.NS ...\n"
     ]
    },
    {
     "name": "stderr",
     "output_type": "stream",
     "text": [
      "[*********************100%***********************]  1 of 1 completed\n"
     ]
    },
    {
     "name": "stdout",
     "output_type": "stream",
     "text": [
      "Downloading data for LICHSGFIN.NS ...\n"
     ]
    },
    {
     "name": "stderr",
     "output_type": "stream",
     "text": [
      "[*********************100%***********************]  1 of 1 completed\n",
      "[*********************100%***********************]  1 of 1 completed\n"
     ]
    },
    {
     "name": "stdout",
     "output_type": "stream",
     "text": [
      "Downloading data for LTTS.NS ...\n",
      "Downloading data for MOTHERSON.NS ...\n"
     ]
    },
    {
     "name": "stderr",
     "output_type": "stream",
     "text": [
      "[*********************100%***********************]  1 of 1 completed\n"
     ]
    },
    {
     "name": "stdout",
     "output_type": "stream",
     "text": [
      "Downloading data for SHREECEM.NS ...\n"
     ]
    },
    {
     "name": "stderr",
     "output_type": "stream",
     "text": [
      "[*********************100%***********************]  1 of 1 completed\n"
     ]
    },
    {
     "name": "stdout",
     "output_type": "stream",
     "text": [
      "Downloading data for SIEMENS.NS ...\n"
     ]
    },
    {
     "name": "stderr",
     "output_type": "stream",
     "text": [
      "[*********************100%***********************]  1 of 1 completed\n"
     ]
    },
    {
     "name": "stdout",
     "output_type": "stream",
     "text": [
      "Downloading data for TATAPOWER.NS ...\n"
     ]
    },
    {
     "name": "stderr",
     "output_type": "stream",
     "text": [
      "[*********************100%***********************]  1 of 1 completed\n"
     ]
    },
    {
     "name": "stdout",
     "output_type": "stream",
     "text": [
      "Downloading data for TORNTPHARM.NS ...\n"
     ]
    },
    {
     "name": "stderr",
     "output_type": "stream",
     "text": [
      "[*********************100%***********************]  1 of 1 completed\n"
     ]
    },
    {
     "name": "stdout",
     "output_type": "stream",
     "text": [
      "Downloading data for TVSMOTOR.NS ...\n"
     ]
    },
    {
     "name": "stderr",
     "output_type": "stream",
     "text": [
      "[*********************100%***********************]  1 of 1 completed\n"
     ]
    },
    {
     "name": "stdout",
     "output_type": "stream",
     "text": [
      "Downloading data for UNIONBANK.NS ...\n"
     ]
    },
    {
     "name": "stderr",
     "output_type": "stream",
     "text": [
      "[*********************100%***********************]  1 of 1 completed\n",
      "[*********************100%***********************]  1 of 1 completed\n"
     ]
    },
    {
     "name": "stdout",
     "output_type": "stream",
     "text": [
      "Downloading data for UNITDSPR.NS ...\n",
      "Downloading data for VBL.NS ...\n"
     ]
    },
    {
     "name": "stderr",
     "output_type": "stream",
     "text": [
      "[*********************100%***********************]  1 of 1 completed\n"
     ]
    },
    {
     "name": "stdout",
     "output_type": "stream",
     "text": [
      "Downloading data for VEDL.NS ...\n"
     ]
    },
    {
     "name": "stderr",
     "output_type": "stream",
     "text": [
      "[*********************100%***********************]  1 of 1 completed\n",
      "[*********************100%***********************]  1 of 1 completed\n"
     ]
    },
    {
     "name": "stdout",
     "output_type": "stream",
     "text": [
      "Downloading data for ZOMATO.NS ...\n",
      "Downloading data for ZYDUSLIFE.NS ...\n"
     ]
    },
    {
     "name": "stderr",
     "output_type": "stream",
     "text": [
      "[*********************100%***********************]  1 of 1 completed\n",
      "[*********************100%***********************]  1 of 1 completed\n"
     ]
    },
    {
     "name": "stdout",
     "output_type": "stream",
     "text": [
      "Downloading data for IDFCFIRSTB.NS ...\n",
      "Downloading data for YESBANK.NS ...\n"
     ]
    },
    {
     "name": "stderr",
     "output_type": "stream",
     "text": [
      "[*********************100%***********************]  1 of 1 completed\n"
     ]
    },
    {
     "name": "stdout",
     "output_type": "stream",
     "text": [
      "Downloading data for PNB.NS ...\n"
     ]
    },
    {
     "name": "stderr",
     "output_type": "stream",
     "text": [
      "[*********************100%***********************]  1 of 1 completed\n"
     ]
    },
    {
     "name": "stdout",
     "output_type": "stream",
     "text": [
      "Downloading data for BANKINDIA.NS ...\n"
     ]
    },
    {
     "name": "stderr",
     "output_type": "stream",
     "text": [
      "[*********************100%***********************]  1 of 1 completed\n",
      "[*********************100%***********************]  1 of 1 completed\n"
     ]
    },
    {
     "name": "stdout",
     "output_type": "stream",
     "text": [
      "Downloading data for RBLBANK.NS ...\n",
      "Downloading data for INDIANB.NS ...\n"
     ]
    },
    {
     "name": "stderr",
     "output_type": "stream",
     "text": [
      "[*********************100%***********************]  1 of 1 completed\n"
     ]
    }
   ],
   "source": [
    "# Initialize a list to collect DataFrames\n",
    "df_list = []\n",
    "\n",
    "# Download data for each ticker and add a new column for ticker symbol\n",
    "for ticker in top_100_tickers:\n",
    "    print(f\"Downloading data for {ticker} ...\")\n",
    "    df = yf.download(ticker, start=start_date, end=end_date)\n",
    "    if not df.empty:\n",
    "        df['Ticker'] = ticker  # Add a column to identify the stock\n",
    "        df_list.append(df)\n",
    "    else:\n",
    "        print(f\"No data for {ticker}\")"
   ]
  },
  {
   "cell_type": "code",
   "execution_count": 3,
   "id": "ffd31802-31d8-47a2-bd53-deec17aee047",
   "metadata": {},
   "outputs": [
    {
     "name": "stdout",
     "output_type": "stream",
     "text": [
      "\n",
      "All required stock data downloaded and combined.\n"
     ]
    }
   ],
   "source": [
    "# Combine all data into a single DataFrame\n",
    "combined_data = pd.concat(df_list)\n",
    "print(\"\\nAll required stock data downloaded and combined.\")"
   ]
  },
  {
   "cell_type": "code",
   "execution_count": 4,
   "id": "85b2e2d9-e0c3-450b-b4cc-1a82015eb9b2",
   "metadata": {},
   "outputs": [
    {
     "name": "stdout",
     "output_type": "stream",
     "text": [
      "Combined data saved to 'raw_stocks.csv'\n"
     ]
    }
   ],
   "source": [
    "# Save combined DataFrame to CSV\n",
    "combined_data.to_csv(\"raw_stocks_data.csv\")\n",
    "print(\"Combined data saved to 'raw_stocks.csv'\")"
   ]
  },
  {
   "cell_type": "code",
   "execution_count": null,
   "id": "3df01f3e-f6c5-4b1d-9b00-c8b09cdf14a5",
   "metadata": {},
   "outputs": [],
   "source": []
  }
 ],
 "metadata": {
  "kernelspec": {
   "display_name": "Python [conda env:base] *",
   "language": "python",
   "name": "conda-base-py"
  },
  "language_info": {
   "codemirror_mode": {
    "name": "ipython",
    "version": 3
   },
   "file_extension": ".py",
   "mimetype": "text/x-python",
   "name": "python",
   "nbconvert_exporter": "python",
   "pygments_lexer": "ipython3",
   "version": "3.12.7"
  }
 },
 "nbformat": 4,
 "nbformat_minor": 5
}
